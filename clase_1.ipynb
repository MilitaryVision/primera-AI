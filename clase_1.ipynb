{
  "nbformat": 4,
  "nbformat_minor": 0,
  "metadata": {
    "colab": {
      "provenance": [],
      "authorship_tag": "ABX9TyPuUZ7aRvk1PFKZzClBhRGG"
    },
    "kernelspec": {
      "name": "python3",
      "display_name": "Python 3"
    },
    "language_info": {
      "name": "python"
    }
  },
  "cells": [
    {
      "cell_type": "code",
      "execution_count": null,
      "metadata": {
        "colab": {
          "base_uri": "https://localhost:8080/"
        },
        "id": "yzKRxkbKXmDR",
        "outputId": "d02d6954-420a-4092-b31f-1efb3f28e13f"
      },
      "outputs": [
        {
          "output_type": "stream",
          "name": "stdout",
          "text": [
            "hellow UNI\n"
          ]
        }
      ],
      "source": [
        "print(\"hellow UNI\")"
      ]
    },
    {
      "cell_type": "code",
      "source": [
        "# Pedir los dos números al usuario\n",
        "numero1 = float(input(\"Introduce el primer número: \"))\n",
        "numero2 = float(input(\"Introduce el segundo número: \"))\n",
        "\n",
        "# Sumar los números\n",
        "suma = numero1 + numero2\n",
        "\n",
        "# Mostrar el resultado\n",
        "print(f\"La suma de {numero1} y {numero2} es: {suma}\")\n"
      ],
      "metadata": {
        "colab": {
          "base_uri": "https://localhost:8080/"
        },
        "id": "4JHLKQLjYRnF",
        "outputId": "dc50c988-1f74-429a-ab32-dc8926cbdeca"
      },
      "execution_count": null,
      "outputs": [
        {
          "output_type": "stream",
          "name": "stdout",
          "text": [
            "Introduce el primer número: 3\n",
            "Introduce el segundo número: 2\n",
            "La suma de 3.0 y 2.0 es: 5.0\n"
          ]
        }
      ]
    },
    {
      "cell_type": "code",
      "source": [
        "a=10\n",
        "n=5\n",
        "c=12.4\n",
        "d=8.5\n",
        "texto=\"texto gaaa\"\n",
        "suma=a+n\n",
        "print(\"la suma es \",suma)\n",
        "usuario=\"hans\"\n"
      ],
      "metadata": {
        "colab": {
          "base_uri": "https://localhost:8080/"
        },
        "id": "86Q-k1oYgkCU",
        "outputId": "20a54b32-409d-42d5-bc58-79e78bca5f69"
      },
      "execution_count": null,
      "outputs": [
        {
          "output_type": "stream",
          "name": "stdout",
          "text": [
            "la suma es  15\n"
          ]
        }
      ]
    },
    {
      "cell_type": "code",
      "source": [
        "class Alumno:\n",
        "  def __init__(self,nombre,apellidos,edad):\n",
        "    self.nombre=nombre\n",
        "    self.apellidos=apellidos\n",
        "    self.edad=edad\n",
        "\n",
        "  def matricularse(self):\n",
        "    return \"Alumno matriculado\"\n",
        "\n",
        "\n",
        "alumno= Alumno(\"Hans\",\"Luyo\",28)\n",
        "print(alumno.nombre)\n",
        "print(alumno.apellidos)\n",
        "print(alumno.edad)\n",
        "print(alumno.matricularse())"
      ],
      "metadata": {
        "colab": {
          "base_uri": "https://localhost:8080/"
        },
        "id": "MGkTYCF4lmm9",
        "outputId": "797fe2c0-3a75-4f75-f896-51d44b590b5b"
      },
      "execution_count": null,
      "outputs": [
        {
          "output_type": "stream",
          "name": "stdout",
          "text": [
            "Hans\n",
            "Luyo\n",
            "28\n",
            "Alumno matriculado\n"
          ]
        }
      ]
    },
    {
      "cell_type": "code",
      "source": [
        "x=10\n",
        "y=5\n",
        "if x>y:\n",
        "  print(\"x es mayor que y\")\n",
        "else:\n",
        "  print(\"y es mayor que x\")"
      ],
      "metadata": {
        "colab": {
          "base_uri": "https://localhost:8080/"
        },
        "id": "mZFwICa6q8kc",
        "outputId": "9e488ac9-f804-4d0a-a107-a5c6886061b4"
      },
      "execution_count": null,
      "outputs": [
        {
          "output_type": "stream",
          "name": "stdout",
          "text": [
            "x es mayor que y\n"
          ]
        }
      ]
    },
    {
      "cell_type": "code",
      "source": [
        "\n",
        "usuario='20242'\n",
        "contraseña='abc'\n",
        "\n",
        "if (usuario=='20242' and contraseña=='a'):\n",
        "  print(\"usuario correcto\")\n",
        "else:\n",
        "  print(\"usuario incorrecto\")\n"
      ],
      "metadata": {
        "colab": {
          "base_uri": "https://localhost:8080/"
        },
        "id": "ORz-RW7rsZNt",
        "outputId": "0e66716d-56e6-4cda-a79d-ffd974f9f6a3"
      },
      "execution_count": null,
      "outputs": [
        {
          "output_type": "stream",
          "name": "stdout",
          "text": [
            "usuario incorrecto\n"
          ]
        }
      ]
    },
    {
      "cell_type": "markdown",
      "source": [
        "pc1 infouni"
      ],
      "metadata": {
        "id": "8mo_IR1Txqxm"
      }
    },
    {
      "cell_type": "code",
      "source": [
        "\n",
        "# Pedir los dos números al usuario\n",
        "numero1 = float(input(\"Introduce el primer número: \"))\n",
        "numero2 = float(input(\"Introduce el segundo número: \"))\n",
        "condicion = float(input(\"Introduce condicion: \"))\n",
        "resultado = 0\n",
        "if (condicion==1):\n",
        "    resultado= numero1 + numero2\n",
        "\n",
        "    # Mostrar el resultado\n",
        "    print(f\"La suma de {numero1} y {numero2} es: {resultado}\")\n",
        "\n",
        "elif (condicion==2):\n",
        "    resultado= numero1 - numero2\n",
        "\n",
        "    # Mostrar el resultado\n",
        "    print(f\"La resta de {numero1} y {numero2} es: {resultado}\")\n",
        "\n",
        "elif (condicion==3):\n",
        "    resultado= numero1 * numero2\n",
        "\n",
        "    # Mostrar el resultado\n",
        "    print(f\"La multiplicacion de {numero1} y {numero2} es: {resultado}\")\n",
        "\n",
        "elif (condicion==4):\n",
        "    resultado= numero1 / numero2\n",
        "\n",
        "    # Mostrar el resultado\n",
        "    print(f\"La division de {numero1} y {numero2} es: {resultado}\")\n",
        "\n",
        "\n",
        "\n",
        "\n",
        "\n"
      ],
      "metadata": {
        "colab": {
          "base_uri": "https://localhost:8080/"
        },
        "id": "__GpgzL-xuOP",
        "outputId": "a2cfbe49-431b-4041-f50e-4bb741f4d930"
      },
      "execution_count": null,
      "outputs": [
        {
          "output_type": "stream",
          "name": "stdout",
          "text": [
            "Introduce el primer número: 12\n",
            "Introduce el segundo número: 2\n",
            "Introduce condicion: 4\n",
            "La division de 12.0 y 2.0 es: 6.0\n"
          ]
        }
      ]
    },
    {
      "cell_type": "code",
      "source": [
        "\n",
        " usuario=input(\"Introduce  usuario: \")\n",
        "contrasena=input(\"Introduce contraseña: \")\n",
        "\n",
        "\n",
        "\n",
        "if (usuario=='root' and contrasena=='1234'):\n",
        "  print(\"usuario correcto\") # Indented this line by 4 spaces\n",
        "else:\n",
        "  print(\"usuario incorrecto\") # Indented this line by 4 spaces"
      ],
      "metadata": {
        "colab": {
          "base_uri": "https://localhost:8080/"
        },
        "id": "VDouOBco1dTi",
        "outputId": "6e4a7212-b009-45e0-a75e-86a880283f45"
      },
      "execution_count": null,
      "outputs": [
        {
          "output_type": "stream",
          "name": "stdout",
          "text": [
            "Introduce  usuario: roou2\n",
            "Introduce contraseña: 2314\n",
            "usuario incorrecto\n"
          ]
        }
      ]
    },
    {
      "cell_type": "code",
      "source": [
        "# Dimension 1\n",
        "dim1= float(input(\"Introduce dimension 1  \"))\n",
        "# Dimension 2\n",
        "dim2= float(input(\"introduce dimension 2  \"))\n",
        "# Dimension 3\n",
        "dim3= float(input(\"introduce dimension 3  \"))\n",
        "\n",
        "Volumen=dim1*dim2*dim3\n",
        "print(\" el volumen es\", Volumen)\n"
      ],
      "metadata": {
        "id": "zKl8tpBdzvO3",
        "colab": {
          "base_uri": "https://localhost:8080/"
        },
        "outputId": "a69511f0-7dfd-470a-ce9c-7d3591e2215a"
      },
      "execution_count": null,
      "outputs": [
        {
          "output_type": "stream",
          "name": "stdout",
          "text": [
            "Introduce dimension 1  3\n",
            "introduce dimension 2  4\n",
            "introduce dimension 3  5\n",
            " el volumen es 60.0\n"
          ]
        }
      ]
    },
    {
      "cell_type": "code",
      "source": [
        "# Nota 1\n",
        "nota1= float(input(\"Introduce nota 1  \"))\n",
        "# Nota 2\n",
        "nota2= float(input(\"introduce nota 2  \"))\n",
        "# Nota 3\n",
        "nota3= float(input(\"introduce nota 3  \"))\n",
        "# Nota 4\n",
        "nota4= float(input(\"introduce nota 4  \"))\n",
        "\n",
        "promedio=(nota1+nota2+nota3+nota4)/4\n",
        "print(\"el promededio es  \", promedio)\n"
      ],
      "metadata": {
        "colab": {
          "base_uri": "https://localhost:8080/",
          "height": 365
        },
        "id": "mH78T-EnCNb8",
        "outputId": "bb2cf7d3-b3c1-4dcf-8636-41b4eb23b474"
      },
      "execution_count": null,
      "outputs": [
        {
          "output_type": "error",
          "ename": "KeyboardInterrupt",
          "evalue": "Interrupted by user",
          "traceback": [
            "\u001b[0;31m---------------------------------------------------------------------------\u001b[0m",
            "\u001b[0;31mKeyboardInterrupt\u001b[0m                         Traceback (most recent call last)",
            "\u001b[0;32m<ipython-input-5-4bed47f491d6>\u001b[0m in \u001b[0;36m<cell line: 0>\u001b[0;34m()\u001b[0m\n\u001b[1;32m      1\u001b[0m \u001b[0;31m# Nota 1\u001b[0m\u001b[0;34m\u001b[0m\u001b[0;34m\u001b[0m\u001b[0m\n\u001b[0;32m----> 2\u001b[0;31m \u001b[0mnota1\u001b[0m\u001b[0;34m=\u001b[0m \u001b[0mfloat\u001b[0m\u001b[0;34m(\u001b[0m\u001b[0minput\u001b[0m\u001b[0;34m(\u001b[0m\u001b[0;34m\"Introduce nota 1  \"\u001b[0m\u001b[0;34m)\u001b[0m\u001b[0;34m)\u001b[0m\u001b[0;34m\u001b[0m\u001b[0;34m\u001b[0m\u001b[0m\n\u001b[0m\u001b[1;32m      3\u001b[0m \u001b[0;31m# Nota 2\u001b[0m\u001b[0;34m\u001b[0m\u001b[0;34m\u001b[0m\u001b[0m\n\u001b[1;32m      4\u001b[0m \u001b[0mnota2\u001b[0m\u001b[0;34m=\u001b[0m \u001b[0mfloat\u001b[0m\u001b[0;34m(\u001b[0m\u001b[0minput\u001b[0m\u001b[0;34m(\u001b[0m\u001b[0;34m\"introduce nota 2  \"\u001b[0m\u001b[0;34m)\u001b[0m\u001b[0;34m)\u001b[0m\u001b[0;34m\u001b[0m\u001b[0;34m\u001b[0m\u001b[0m\n\u001b[1;32m      5\u001b[0m \u001b[0;31m# Nota 3\u001b[0m\u001b[0;34m\u001b[0m\u001b[0;34m\u001b[0m\u001b[0m\n",
            "\u001b[0;32m/usr/local/lib/python3.11/dist-packages/ipykernel/kernelbase.py\u001b[0m in \u001b[0;36mraw_input\u001b[0;34m(self, prompt)\u001b[0m\n\u001b[1;32m    849\u001b[0m                 \u001b[0;34m\"raw_input was called, but this frontend does not support input requests.\"\u001b[0m\u001b[0;34m\u001b[0m\u001b[0;34m\u001b[0m\u001b[0m\n\u001b[1;32m    850\u001b[0m             )\n\u001b[0;32m--> 851\u001b[0;31m         return self._input_request(str(prompt),\n\u001b[0m\u001b[1;32m    852\u001b[0m             \u001b[0mself\u001b[0m\u001b[0;34m.\u001b[0m\u001b[0m_parent_ident\u001b[0m\u001b[0;34m,\u001b[0m\u001b[0;34m\u001b[0m\u001b[0;34m\u001b[0m\u001b[0m\n\u001b[1;32m    853\u001b[0m             \u001b[0mself\u001b[0m\u001b[0;34m.\u001b[0m\u001b[0m_parent_header\u001b[0m\u001b[0;34m,\u001b[0m\u001b[0;34m\u001b[0m\u001b[0;34m\u001b[0m\u001b[0m\n",
            "\u001b[0;32m/usr/local/lib/python3.11/dist-packages/ipykernel/kernelbase.py\u001b[0m in \u001b[0;36m_input_request\u001b[0;34m(self, prompt, ident, parent, password)\u001b[0m\n\u001b[1;32m    893\u001b[0m             \u001b[0;32mexcept\u001b[0m \u001b[0mKeyboardInterrupt\u001b[0m\u001b[0;34m:\u001b[0m\u001b[0;34m\u001b[0m\u001b[0;34m\u001b[0m\u001b[0m\n\u001b[1;32m    894\u001b[0m                 \u001b[0;31m# re-raise KeyboardInterrupt, to truncate traceback\u001b[0m\u001b[0;34m\u001b[0m\u001b[0;34m\u001b[0m\u001b[0m\n\u001b[0;32m--> 895\u001b[0;31m                 \u001b[0;32mraise\u001b[0m \u001b[0mKeyboardInterrupt\u001b[0m\u001b[0;34m(\u001b[0m\u001b[0;34m\"Interrupted by user\"\u001b[0m\u001b[0;34m)\u001b[0m \u001b[0;32mfrom\u001b[0m \u001b[0;32mNone\u001b[0m\u001b[0;34m\u001b[0m\u001b[0;34m\u001b[0m\u001b[0m\n\u001b[0m\u001b[1;32m    896\u001b[0m             \u001b[0;32mexcept\u001b[0m \u001b[0mException\u001b[0m \u001b[0;32mas\u001b[0m \u001b[0me\u001b[0m\u001b[0;34m:\u001b[0m\u001b[0;34m\u001b[0m\u001b[0;34m\u001b[0m\u001b[0m\n\u001b[1;32m    897\u001b[0m                 \u001b[0mself\u001b[0m\u001b[0;34m.\u001b[0m\u001b[0mlog\u001b[0m\u001b[0;34m.\u001b[0m\u001b[0mwarning\u001b[0m\u001b[0;34m(\u001b[0m\u001b[0;34m\"Invalid Message:\"\u001b[0m\u001b[0;34m,\u001b[0m \u001b[0mexc_info\u001b[0m\u001b[0;34m=\u001b[0m\u001b[0;32mTrue\u001b[0m\u001b[0;34m)\u001b[0m\u001b[0;34m\u001b[0m\u001b[0;34m\u001b[0m\u001b[0m\n",
            "\u001b[0;31mKeyboardInterrupt\u001b[0m: Interrupted by user"
          ]
        }
      ]
    },
    {
      "cell_type": "code",
      "source": [
        "# Dimension 1\n",
        "a= float(input(\"Introduce dimension a  \"))\n",
        "# Dimension 2\n",
        "b= float(input(\"introduce dimension b  \"))\n",
        "# Dimension 3\n",
        "c= float(input(\"introduce dimension c  \"))\n",
        "\n",
        "area=(c+a)*(b/2)\n",
        "print(\"el area es  \",area)"
      ],
      "metadata": {
        "colab": {
          "base_uri": "https://localhost:8080/"
        },
        "id": "Y-glCk-gDd-n",
        "outputId": "f633d9e1-860f-4979-dddf-fe540ddab52d"
      },
      "execution_count": null,
      "outputs": [
        {
          "output_type": "stream",
          "name": "stdout",
          "text": [
            "Introduce dimension a  4\n",
            "introduce dimension b  5\n",
            "introduce dimension c  6\n",
            "el area es   25.0\n"
          ]
        }
      ]
    },
    {
      "cell_type": "code",
      "source": [
        "cl=float(input(\" introduce cantidad de litros\"))\n",
        "pg=float(input(\"precio de galon\"))\n",
        "tg=cl/3.785\n",
        "ga=pg*tg\n",
        "print(\"el precio del galon es   \",ga)"
      ],
      "metadata": {
        "colab": {
          "base_uri": "https://localhost:8080/"
        },
        "id": "y4PxEtHaEENn",
        "outputId": "1a93ac25-715a-4965-e72a-3546823912e7"
      },
      "execution_count": null,
      "outputs": [
        {
          "output_type": "stream",
          "name": "stdout",
          "text": [
            " introduce cantidad de litros34\n",
            "precio de galon4\n",
            "el precio del galon es    35.93130779392338\n"
          ]
        }
      ]
    },
    {
      "cell_type": "code",
      "source": [
        "numero=float(input(\" introduce un numero\"))\n",
        "if numero>0:\n",
        "   print(\"el numero es positivo  \",numero)\n"
      ],
      "metadata": {
        "colab": {
          "base_uri": "https://localhost:8080/"
        },
        "id": "ddGLWNdtGJll",
        "outputId": "658de3c3-f59e-4c5a-dba8-e5accfd33d5c"
      },
      "execution_count": null,
      "outputs": [
        {
          "output_type": "stream",
          "name": "stdout",
          "text": [
            " introduce un numero5\n",
            "el numero es positivo   5.0\n"
          ]
        }
      ]
    },
    {
      "cell_type": "code",
      "source": [
        "numero_a=float(input(\"introduce a \"))\n",
        "numero_b=float(input(\"introduce b \"))\n",
        "if numero_a>numero_b:\n",
        "  print(numero_a,\"  es mayor que  \",numero_b)\n",
        "else:\n",
        "  print(numero_b,  \"es mayor que  \",numero_a)"
      ],
      "metadata": {
        "id": "q84K_OGhMUyE",
        "colab": {
          "base_uri": "https://localhost:8080/"
        },
        "outputId": "133bc50b-6c3e-4282-b7bd-fe402419aee7"
      },
      "execution_count": null,
      "outputs": [
        {
          "output_type": "stream",
          "name": "stdout",
          "text": [
            "introduce a 4\n",
            "introduce b 6\n",
            "6.0 es mayor que   4.0\n"
          ]
        }
      ]
    },
    {
      "cell_type": "code",
      "source": [
        "pi=float(input(\"ingrese precio inicial\"))\n",
        "\n",
        "if pi<=2500:\n",
        "   pf=pi*0.92\n",
        "   d=pi*0.08\n",
        "else:\n",
        "   pf=pi*0.75\n",
        "   d=pi*0.15\n",
        "\n",
        "print(\" precio final : \",pf,\"    descuento:\",d)"
      ],
      "metadata": {
        "colab": {
          "base_uri": "https://localhost:8080/"
        },
        "id": "oyYO6D69lFuF",
        "outputId": "73168724-2f97-405e-e05f-82f4022920cf"
      },
      "execution_count": null,
      "outputs": [
        {
          "output_type": "stream",
          "name": "stdout",
          "text": [
            "ingrese precio inicial2400\n",
            " precio final :  2208.0     descuento: 192.0\n"
          ]
        }
      ]
    },
    {
      "cell_type": "code",
      "source": [
        "a=float(input(\"introduce a\"))\n",
        "b=float(input(\"introduce b\"))\n",
        "c=float(input(\"introduce c\"))\n",
        "\n",
        "if a>b:\n",
        "  if a>c:\n",
        "      m=a\n",
        "elif b>c:\n",
        "\n",
        "  if b>a:\n",
        "     m=b\n",
        "elif c>a:\n",
        "\n",
        "  if c>b:\n",
        "     m=c\n",
        "\n",
        "print(\"el numero mayor es \",m)\n",
        "\n"
      ],
      "metadata": {
        "colab": {
          "base_uri": "https://localhost:8080/"
        },
        "id": "N_DWy2-orG4u",
        "outputId": "63b95962-5a0d-457f-e562-95ca28b33554"
      },
      "execution_count": null,
      "outputs": [
        {
          "output_type": "stream",
          "name": "stdout",
          "text": [
            "introduce a6\n",
            "introduce b2\n",
            "introduce c0\n",
            "el numero mayor es  6.0\n"
          ]
        }
      ]
    },
    {
      "cell_type": "code",
      "source": [
        "na=float(input(\"introduce numero de alumnos\"))\n",
        "if(na>99):\n",
        "  m=65\n",
        "  r=0\n",
        "elif(na>49):\n",
        "    m=70\n",
        "    r=0\n",
        "elif(na>29):\n",
        "  m=95\n",
        "  r=0\n",
        "elif(na<30):\n",
        "  m=0\n",
        "  r=4000\n",
        "\n",
        "pt=(m*na)+r\n",
        "\n",
        "print(\"el precio total  \",pt)\n"
      ],
      "metadata": {
        "colab": {
          "base_uri": "https://localhost:8080/"
        },
        "id": "CaW8e3FnI2xq",
        "outputId": "8f5d5497-de11-4d57-9e03-4fec8f3643b2"
      },
      "execution_count": null,
      "outputs": [
        {
          "output_type": "stream",
          "name": "stdout",
          "text": [
            "introduce numero de alumnos10\n",
            "el precio total   4000.0\n"
          ]
        }
      ]
    },
    {
      "cell_type": "code",
      "source": [
        "nota=float(input(\"introduce nota\"))\n",
        "if(nota>=18 and nota<=20):\n",
        " print(\"A\")\n",
        "\n",
        "if(nota>=15  and nota<=17):\n",
        " print(\"B\")\n",
        "\n",
        "if(nota>=11  and nota<=14):\n",
        " print(\"C\")\n",
        "\n",
        "if(nota>=0  and nota<=10):\n",
        " print(\"D\")\n"
      ],
      "metadata": {
        "id": "0_ZbVgsBOx7e",
        "colab": {
          "base_uri": "https://localhost:8080/"
        },
        "outputId": "cc4ab4af-8e16-49de-d87e-b475d5cd949a"
      },
      "execution_count": null,
      "outputs": [
        {
          "output_type": "stream",
          "name": "stdout",
          "text": [
            "introduce nota8\n",
            "D\n"
          ]
        }
      ]
    },
    {
      "cell_type": "code",
      "source": [
        "numero1=float(input(\"numero 1  \"))\n",
        "numero2=float(input(\"numero 2 \"))\n",
        "comando=float(input(\"comando \"))\n",
        "\n",
        "switch( comando)\n"
      ],
      "metadata": {
        "id": "8fn0Ba0s6FKc"
      },
      "execution_count": null,
      "outputs": []
    },
    {
      "cell_type": "code",
      "source": [
        "\"string\"\n",
        "'string'\n",
        "\n",
        "\"\"\" tus datos\n",
        "   son makanaky\n",
        "   el especial \"\"\"\n",
        "\n",
        "  '''tus datos\n",
        "   son makanaky\n",
        "   el especial'''\n",
        "\n",
        "   40\n",
        "   40.2\n",
        "\n",
        "False\n",
        "True"
      ],
      "metadata": {
        "id": "WGHMd8syeEsZ"
      },
      "execution_count": null,
      "outputs": []
    },
    {
      "cell_type": "code",
      "source": [
        "a=2\n",
        "b=3\n",
        "c=a+b\n",
        "print(c)"
      ],
      "metadata": {
        "colab": {
          "base_uri": "https://localhost:8080/"
        },
        "id": "uXHVcn1EjY2R",
        "outputId": "fd578019-da3a-491f-b2ab-dde0340f5a21"
      },
      "execution_count": null,
      "outputs": [
        {
          "output_type": "stream",
          "name": "stdout",
          "text": [
            "5\n"
          ]
        }
      ]
    },
    {
      "cell_type": "code",
      "source": [
        "nombre=\"makanaky el especial\"\n",
        "nombre=\"paola kuoka amada\"\n",
        "nombre=\"tenchi bebe\"\n",
        "print(nombre)"
      ],
      "metadata": {
        "colab": {
          "base_uri": "https://localhost:8080/"
        },
        "id": "iQ1xh5TJkQUt",
        "outputId": "943ad4de-5672-4a21-c2a9-f111d3a59a64"
      },
      "execution_count": null,
      "outputs": [
        {
          "output_type": "stream",
          "name": "stdout",
          "text": [
            "tenchi bebe\n"
          ]
        }
      ]
    },
    {
      "cell_type": "code",
      "source": [
        "numero=10\n",
        "numero=10+1\n",
        "print(numero)"
      ],
      "metadata": {
        "colab": {
          "base_uri": "https://localhost:8080/"
        },
        "id": "wPaeiAfilbH-",
        "outputId": "0413086f-7cd2-4deb-e2be-55eb314fc292"
      },
      "execution_count": null,
      "outputs": [
        {
          "output_type": "stream",
          "name": "stdout",
          "text": [
            "11\n"
          ]
        }
      ]
    },
    {
      "cell_type": "code",
      "source": [
        "numero=10\n",
        "numero+=1\n",
        "print(numero)"
      ],
      "metadata": {
        "colab": {
          "base_uri": "https://localhost:8080/"
        },
        "id": "LflsCSy3l3tc",
        "outputId": "e41dcac2-767c-48b5-d4b4-bac642561f36"
      },
      "execution_count": null,
      "outputs": [
        {
          "output_type": "stream",
          "name": "stdout",
          "text": [
            "11\n"
          ]
        }
      ]
    },
    {
      "cell_type": "code",
      "source": [
        "numero=10\n",
        "numero+=5\n",
        "numero-=5\n",
        "print(numero)"
      ],
      "metadata": {
        "colab": {
          "base_uri": "https://localhost:8080/"
        },
        "id": "pJRT_DIUmVlE",
        "outputId": "0b68c384-d004-4054-a800-b38bbcd78d10"
      },
      "execution_count": null,
      "outputs": [
        {
          "output_type": "stream",
          "name": "stdout",
          "text": [
            "10\n"
          ]
        }
      ]
    },
    {
      "cell_type": "code",
      "source": [
        "nombre=\"lucas\"\n",
        "bienvenida=\"hola \" + nombre +\" botame tu gaaa \"\n",
        "print (bienvenida)"
      ],
      "metadata": {
        "colab": {
          "base_uri": "https://localhost:8080/"
        },
        "id": "V0TQm1mznIAL",
        "outputId": "fb0df783-7ba6-40ee-ca5a-3d069c10b422"
      },
      "execution_count": null,
      "outputs": [
        {
          "output_type": "stream",
          "name": "stdout",
          "text": [
            "hola lucas botame tu gaaa \n"
          ]
        }
      ]
    },
    {
      "cell_type": "code",
      "source": [
        "nombre=True\n",
        "bienvenida= f\"hola {nombre} botame tu gaaa\"\n",
        "print (bienvenida)"
      ],
      "metadata": {
        "colab": {
          "base_uri": "https://localhost:8080/"
        },
        "id": "iyoNBxc5n7We",
        "outputId": "d9362818-e7e6-46ce-9dce-e73d2062462b"
      },
      "execution_count": null,
      "outputs": [
        {
          "output_type": "stream",
          "name": "stdout",
          "text": [
            "hola True botame tu gaaa\n"
          ]
        }
      ]
    },
    {
      "cell_type": "code",
      "source": [
        "nombre=\"causaprimo\"\n",
        "bienvenide=f\"hola  {nombre} botame tu gaaa\"\n",
        "print (\"causaprimoz\" not in bienvenide)"
      ],
      "metadata": {
        "colab": {
          "base_uri": "https://localhost:8080/"
        },
        "id": "QOB2siMarIu6",
        "outputId": "839f3aad-1c11-4c15-b2eb-8e2448632ec9"
      },
      "execution_count": null,
      "outputs": [
        {
          "output_type": "stream",
          "name": "stdout",
          "text": [
            "True\n"
          ]
        }
      ]
    },
    {
      "cell_type": "code",
      "source": [
        "lista=[\"el alarako tenchi\",2,\"gaaa\", False]\n",
        "\n",
        "print(lista)"
      ],
      "metadata": {
        "colab": {
          "base_uri": "https://localhost:8080/"
        },
        "id": "F7bM8INrtiZo",
        "outputId": "8fe10f5d-b3a0-4ad8-a26c-7d4b4a811c24"
      },
      "execution_count": null,
      "outputs": [
        {
          "output_type": "stream",
          "name": "stdout",
          "text": [
            "['el alarako tenchi', 2, 'gaaa', False]\n"
          ]
        }
      ]
    },
    {
      "cell_type": "code",
      "source": [
        "lista=[\"el alarako tenchi\",2,\"gaaa\", False]\n",
        "\n",
        "print(lista[2])"
      ],
      "metadata": {
        "colab": {
          "base_uri": "https://localhost:8080/"
        },
        "id": "e_Pyqvxd11qv",
        "outputId": "a1f61d4b-ad05-4f16-a228-0192b996d714"
      },
      "execution_count": null,
      "outputs": [
        {
          "output_type": "stream",
          "name": "stdout",
          "text": [
            "gaaa\n"
          ]
        }
      ]
    },
    {
      "cell_type": "code",
      "source": [
        "\n",
        "tuplas=(\"el alarako tenchi\",2,\"gaaa\", False)\n",
        "print(tuplas[1])"
      ],
      "metadata": {
        "colab": {
          "base_uri": "https://localhost:8080/"
        },
        "id": "vKCEVomX37Qp",
        "outputId": "995cc695-18fd-493b-f1a2-471d69ec21d6"
      },
      "execution_count": null,
      "outputs": [
        {
          "output_type": "stream",
          "name": "stdout",
          "text": [
            "2\n"
          ]
        }
      ]
    },
    {
      "cell_type": "code",
      "source": [
        "conjunto={\"el alarako tenchi\",2,\"gaaa\", False}\n",
        "print(conjunto)"
      ],
      "metadata": {
        "colab": {
          "base_uri": "https://localhost:8080/"
        },
        "id": "e-yeu0pR6EyR",
        "outputId": "28f35b53-eb76-4098-e98f-79fc9f6bf1ae"
      },
      "execution_count": null,
      "outputs": [
        {
          "output_type": "stream",
          "name": "stdout",
          "text": [
            "{False, 2, 'gaaa', 'el alarako tenchi'}\n"
          ]
        }
      ]
    },
    {
      "cell_type": "code",
      "source": [
        "diccionario={ 'nombre':\"alarako\",\n",
        "\n",
        "'apellido' : \"especial\",\n",
        "\n",
        "   'preso':True     ,\n",
        "              'altura':\"1.5\"\n",
        "\n",
        "             }\n",
        "print(diccionario['preso'])"
      ],
      "metadata": {
        "colab": {
          "base_uri": "https://localhost:8080/"
        },
        "id": "fkR-W-Xy77_3",
        "outputId": "125d0f23-72e9-4a9c-9201-c48c37897600"
      },
      "execution_count": null,
      "outputs": [
        {
          "output_type": "stream",
          "name": "stdout",
          "text": [
            "True\n"
          ]
        }
      ]
    },
    {
      "cell_type": "code",
      "source": [
        "suma=12+5\n",
        "division=12/5\n",
        "potencia=12**3\n",
        "print(potencia)"
      ],
      "metadata": {
        "colab": {
          "base_uri": "https://localhost:8080/"
        },
        "id": "cp3sFglOJ771",
        "outputId": "c1df9881-d9e7-48f7-88a9-6dafa5c1a988"
      },
      "execution_count": null,
      "outputs": [
        {
          "output_type": "stream",
          "name": "stdout",
          "text": [
            "1728\n"
          ]
        }
      ]
    },
    {
      "cell_type": "code",
      "source": [
        "div_baja=12//5\n",
        "print(div_baja)"
      ],
      "metadata": {
        "colab": {
          "base_uri": "https://localhost:8080/"
        },
        "id": "C3JkqMduKV-9",
        "outputId": "acfe152b-6925-49a9-9116-45e22c781bfc"
      },
      "execution_count": null,
      "outputs": [
        {
          "output_type": "stream",
          "name": "stdout",
          "text": [
            "2\n"
          ]
        }
      ]
    },
    {
      "cell_type": "code",
      "source": [
        "resto=12%5\n",
        "print(resto)"
      ],
      "metadata": {
        "id": "k4wntNBKKaTF"
      },
      "execution_count": null,
      "outputs": []
    },
    {
      "cell_type": "code",
      "source": [
        "f=3==2\n",
        "print(f)"
      ],
      "metadata": {
        "colab": {
          "base_uri": "https://localhost:8080/"
        },
        "id": "y_rvveBFKr_L",
        "outputId": "00dda1c4-245a-4f28-f4bd-d4b82b61a9ef"
      },
      "execution_count": null,
      "outputs": [
        {
          "output_type": "stream",
          "name": "stdout",
          "text": [
            "False\n"
          ]
        }
      ]
    }
  ]
}